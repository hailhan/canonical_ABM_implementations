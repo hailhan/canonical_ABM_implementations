{
 "cells": [
  {
   "cell_type": "code",
   "execution_count": 2,
   "id": "604979c1",
   "metadata": {},
   "outputs": [],
   "source": [
    "import pandas as pd\n",
    "df = pd.read_csv('batch_results.csv')"
   ]
  },
  {
   "cell_type": "code",
   "execution_count": 4,
   "id": "d5ceacd4",
   "metadata": {},
   "outputs": [],
   "source": [
    "grouped = df.groupby(['RunId', 'iteration'])"
   ]
  },
  {
   "cell_type": "code",
   "execution_count": 5,
   "id": "033bcd73",
   "metadata": {},
   "outputs": [
    {
     "name": "stderr",
     "output_type": "stream",
     "text": [
      "/var/folders/_y/p8r1pq5s491gjhlr2x0pt9mc0000gn/T/ipykernel_24440/2807331689.py:10: DeprecationWarning: DataFrameGroupBy.apply operated on the grouping columns. This behavior is deprecated, and in a future version of pandas the grouping columns will be excluded from the operation. Either pass `include_groups=False` to exclude the groupings or explicitly select the grouping columns after groupby to silence this warning.\n",
      "  ni_results = grouped.apply(find_steady_state)\n"
     ]
    },
    {
     "data": {
      "text/plain": [
       "RunId  iteration\n",
       "0      0            20\n",
       "1      0            22\n",
       "2      0            22\n",
       "3      0            16\n",
       "4      0            12\n",
       "                    ..\n",
       "1795   99            5\n",
       "1796   99            5\n",
       "1797   99            4\n",
       "1798   99            3\n",
       "1799   99            4\n",
       "Length: 1800, dtype: int64"
      ]
     },
     "execution_count": 5,
     "metadata": {},
     "output_type": "execute_result"
    }
   ],
   "source": [
    "def find_steady_state(subdf):\n",
    "    # Find the first step where majority_action and stick_in_the_muds stop changing\n",
    "    maj = subdf['majority_action'].values\n",
    "    sm = subdf['stick_in_the_muds'].values\n",
    "    for i in range(1, len(subdf)):\n",
    "        if all(maj[i:] == maj[i]) and all(sm[i:] == sm[i]):\n",
    "            return i  # NI: step when steady state starts\n",
    "    return len(subdf) - 1  # If never steady, return last step\n",
    "\n",
    "ni_results = grouped.apply(find_steady_state)\n",
    "ni_results"
   ]
  },
  {
   "cell_type": "code",
   "execution_count": 6,
   "id": "ddcd20a5",
   "metadata": {},
   "outputs": [
    {
     "name": "stderr",
     "output_type": "stream",
     "text": [
      "/var/folders/_y/p8r1pq5s491gjhlr2x0pt9mc0000gn/T/ipykernel_24440/1764621027.py:5: DeprecationWarning: DataFrameGroupBy.apply operated on the grouping columns. This behavior is deprecated, and in a future version of pandas the grouping columns will be excluded from the operation. Either pass `include_groups=False` to exclude the groupings or explicitly select the grouping columns after groupby to silence this warning.\n",
      "  sm_results = grouped.apply(get_sm)\n"
     ]
    },
    {
     "data": {
      "text/plain": [
       "RunId  iteration\n",
       "0      0            0.0\n",
       "1      0            0.0\n",
       "2      0            0.0\n",
       "3      0            0.0\n",
       "4      0            0.0\n",
       "                   ... \n",
       "1795   99           0.0\n",
       "1796   99           0.0\n",
       "1797   99           0.0\n",
       "1798   99           0.0\n",
       "1799   99           0.0\n",
       "Length: 1800, dtype: float64"
      ]
     },
     "execution_count": 6,
     "metadata": {},
     "output_type": "execute_result"
    }
   ],
   "source": [
    "def get_sm(subdf):\n",
    "    ni = find_steady_state(subdf)\n",
    "    return subdf.iloc[ni]['stick_in_the_muds']\n",
    "\n",
    "sm_results = grouped.apply(get_sm)\n",
    "sm_results"
   ]
  },
  {
   "cell_type": "code",
   "execution_count": 7,
   "id": "9747ad79",
   "metadata": {},
   "outputs": [
    {
     "name": "stderr",
     "output_type": "stream",
     "text": [
      "/var/folders/_y/p8r1pq5s491gjhlr2x0pt9mc0000gn/T/ipykernel_24440/3198603246.py:8: DeprecationWarning: DataFrameGroupBy.apply operated on the grouping columns. This behavior is deprecated, and in a future version of pandas the grouping columns will be excluded from the operation. Either pass `include_groups=False` to exclude the groupings or explicitly select the grouping columns after groupby to silence this warning.\n",
      "  ie_results = grouped.apply(get_ie)\n"
     ]
    },
    {
     "data": {
      "text/plain": [
       "RunId  iteration\n",
       "0      0            1.0\n",
       "1      0            1.0\n",
       "2      0            1.0\n",
       "3      0            1.0\n",
       "4      0            1.0\n",
       "                   ... \n",
       "1795   99           1.0\n",
       "1796   99           1.0\n",
       "1797   99           1.0\n",
       "1798   99           1.0\n",
       "1799   99           1.0\n",
       "Length: 1800, dtype: float64"
      ]
     },
     "execution_count": 7,
     "metadata": {},
     "output_type": "execute_result"
    }
   ],
   "source": [
    "def get_ie(subdf):\n",
    "    ni = find_steady_state(subdf)\n",
    "    initial_majority = subdf.iloc[0]['majority_action']\n",
    "    steady_majority = subdf.iloc[ni:]['majority_action']\n",
    "    matches = (steady_majority == initial_majority).sum()\n",
    "    return matches / len(steady_majority) if len(steady_majority) > 0 else 0\n",
    "\n",
    "ie_results = grouped.apply(get_ie)\n",
    "ie_results"
   ]
  },
  {
   "cell_type": "code",
   "execution_count": 10,
   "id": "b46227be",
   "metadata": {},
   "outputs": [
    {
     "data": {
      "text/html": [
       "<div>\n",
       "<style scoped>\n",
       "    .dataframe tbody tr th:only-of-type {\n",
       "        vertical-align: middle;\n",
       "    }\n",
       "\n",
       "    .dataframe tbody tr th {\n",
       "        vertical-align: top;\n",
       "    }\n",
       "\n",
       "    .dataframe thead th {\n",
       "        text-align: right;\n",
       "    }\n",
       "</style>\n",
       "<table border=\"1\" class=\"dataframe\">\n",
       "  <thead>\n",
       "    <tr style=\"text-align: right;\">\n",
       "      <th></th>\n",
       "      <th>RunId</th>\n",
       "      <th>iteration</th>\n",
       "      <th>NI</th>\n",
       "      <th>SM</th>\n",
       "      <th>IE</th>\n",
       "    </tr>\n",
       "  </thead>\n",
       "  <tbody>\n",
       "    <tr>\n",
       "      <th>0</th>\n",
       "      <td>0</td>\n",
       "      <td>0</td>\n",
       "      <td>20</td>\n",
       "      <td>0.0</td>\n",
       "      <td>1.0</td>\n",
       "    </tr>\n",
       "    <tr>\n",
       "      <th>1</th>\n",
       "      <td>1</td>\n",
       "      <td>0</td>\n",
       "      <td>22</td>\n",
       "      <td>0.0</td>\n",
       "      <td>1.0</td>\n",
       "    </tr>\n",
       "    <tr>\n",
       "      <th>2</th>\n",
       "      <td>2</td>\n",
       "      <td>0</td>\n",
       "      <td>22</td>\n",
       "      <td>0.0</td>\n",
       "      <td>1.0</td>\n",
       "    </tr>\n",
       "    <tr>\n",
       "      <th>3</th>\n",
       "      <td>3</td>\n",
       "      <td>0</td>\n",
       "      <td>16</td>\n",
       "      <td>0.0</td>\n",
       "      <td>1.0</td>\n",
       "    </tr>\n",
       "    <tr>\n",
       "      <th>4</th>\n",
       "      <td>4</td>\n",
       "      <td>0</td>\n",
       "      <td>12</td>\n",
       "      <td>0.0</td>\n",
       "      <td>1.0</td>\n",
       "    </tr>\n",
       "    <tr>\n",
       "      <th>...</th>\n",
       "      <td>...</td>\n",
       "      <td>...</td>\n",
       "      <td>...</td>\n",
       "      <td>...</td>\n",
       "      <td>...</td>\n",
       "    </tr>\n",
       "    <tr>\n",
       "      <th>1795</th>\n",
       "      <td>1795</td>\n",
       "      <td>99</td>\n",
       "      <td>5</td>\n",
       "      <td>0.0</td>\n",
       "      <td>1.0</td>\n",
       "    </tr>\n",
       "    <tr>\n",
       "      <th>1796</th>\n",
       "      <td>1796</td>\n",
       "      <td>99</td>\n",
       "      <td>5</td>\n",
       "      <td>0.0</td>\n",
       "      <td>1.0</td>\n",
       "    </tr>\n",
       "    <tr>\n",
       "      <th>1797</th>\n",
       "      <td>1797</td>\n",
       "      <td>99</td>\n",
       "      <td>4</td>\n",
       "      <td>0.0</td>\n",
       "      <td>1.0</td>\n",
       "    </tr>\n",
       "    <tr>\n",
       "      <th>1798</th>\n",
       "      <td>1798</td>\n",
       "      <td>99</td>\n",
       "      <td>3</td>\n",
       "      <td>0.0</td>\n",
       "      <td>1.0</td>\n",
       "    </tr>\n",
       "    <tr>\n",
       "      <th>1799</th>\n",
       "      <td>1799</td>\n",
       "      <td>99</td>\n",
       "      <td>4</td>\n",
       "      <td>0.0</td>\n",
       "      <td>1.0</td>\n",
       "    </tr>\n",
       "  </tbody>\n",
       "</table>\n",
       "<p>1800 rows × 5 columns</p>\n",
       "</div>"
      ],
      "text/plain": [
       "      RunId  iteration  NI   SM   IE\n",
       "0         0          0  20  0.0  1.0\n",
       "1         1          0  22  0.0  1.0\n",
       "2         2          0  22  0.0  1.0\n",
       "3         3          0  16  0.0  1.0\n",
       "4         4          0  12  0.0  1.0\n",
       "...     ...        ...  ..  ...  ...\n",
       "1795   1795         99   5  0.0  1.0\n",
       "1796   1796         99   5  0.0  1.0\n",
       "1797   1797         99   4  0.0  1.0\n",
       "1798   1798         99   3  0.0  1.0\n",
       "1799   1799         99   4  0.0  1.0\n",
       "\n",
       "[1800 rows x 5 columns]"
      ]
     },
     "execution_count": 10,
     "metadata": {},
     "output_type": "execute_result"
    }
   ],
   "source": [
    "results = pd.DataFrame({\n",
    "    'NI': ni_results,\n",
    "    'SM': sm_results,\n",
    "    'IE': ie_results\n",
    "}).reset_index()\n",
    "results"
   ]
  }
 ],
 "metadata": {
  "kernelspec": {
   "display_name": "30111",
   "language": "python",
   "name": "python3"
  },
  "language_info": {
   "codemirror_mode": {
    "name": "ipython",
    "version": 3
   },
   "file_extension": ".py",
   "mimetype": "text/x-python",
   "name": "python",
   "nbconvert_exporter": "python",
   "pygments_lexer": "ipython3",
   "version": "3.12.7"
  }
 },
 "nbformat": 4,
 "nbformat_minor": 5
}
