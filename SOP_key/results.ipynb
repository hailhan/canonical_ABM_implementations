{
 "cells": [
  {
   "cell_type": "code",
   "execution_count": 1,
   "id": "604979c1",
   "metadata": {},
   "outputs": [],
   "source": [
    "import pandas as pd\n",
    "df = pd.read_csv('batch_results.csv')"
   ]
  },
  {
   "cell_type": "code",
   "execution_count": 2,
   "id": "7e114d73",
   "metadata": {},
   "outputs": [
    {
     "data": {
      "text/html": [
       "<div>\n",
       "<style scoped>\n",
       "    .dataframe tbody tr th:only-of-type {\n",
       "        vertical-align: middle;\n",
       "    }\n",
       "\n",
       "    .dataframe tbody tr th {\n",
       "        vertical-align: top;\n",
       "    }\n",
       "\n",
       "    .dataframe thead th {\n",
       "        text-align: right;\n",
       "    }\n",
       "</style>\n",
       "<table border=\"1\" class=\"dataframe\">\n",
       "  <thead>\n",
       "    <tr style=\"text-align: right;\">\n",
       "      <th></th>\n",
       "      <th>RunId</th>\n",
       "      <th>iteration</th>\n",
       "      <th>Step</th>\n",
       "      <th>width</th>\n",
       "      <th>height</th>\n",
       "      <th>neighbor_structure</th>\n",
       "      <th>update</th>\n",
       "      <th>seed</th>\n",
       "      <th>proportion_against_instinct</th>\n",
       "      <th>NI</th>\n",
       "      <th>SM</th>\n",
       "      <th>IE</th>\n",
       "    </tr>\n",
       "  </thead>\n",
       "  <tbody>\n",
       "    <tr>\n",
       "      <th>0</th>\n",
       "      <td>0</td>\n",
       "      <td>0</td>\n",
       "      <td>21</td>\n",
       "      <td>20</td>\n",
       "      <td>20</td>\n",
       "      <td>five</td>\n",
       "      <td>Sync</td>\n",
       "      <td>1</td>\n",
       "      <td>0.4875</td>\n",
       "      <td>21</td>\n",
       "      <td>0.0</td>\n",
       "      <td>1.0</td>\n",
       "    </tr>\n",
       "    <tr>\n",
       "      <th>1</th>\n",
       "      <td>1</td>\n",
       "      <td>0</td>\n",
       "      <td>23</td>\n",
       "      <td>20</td>\n",
       "      <td>20</td>\n",
       "      <td>five</td>\n",
       "      <td>Sync</td>\n",
       "      <td>10</td>\n",
       "      <td>0.4925</td>\n",
       "      <td>23</td>\n",
       "      <td>0.0</td>\n",
       "      <td>1.0</td>\n",
       "    </tr>\n",
       "    <tr>\n",
       "      <th>2</th>\n",
       "      <td>2</td>\n",
       "      <td>0</td>\n",
       "      <td>23</td>\n",
       "      <td>20</td>\n",
       "      <td>20</td>\n",
       "      <td>five</td>\n",
       "      <td>Sync</td>\n",
       "      <td>25</td>\n",
       "      <td>0.4825</td>\n",
       "      <td>23</td>\n",
       "      <td>0.0</td>\n",
       "      <td>1.0</td>\n",
       "    </tr>\n",
       "    <tr>\n",
       "      <th>3</th>\n",
       "      <td>3</td>\n",
       "      <td>0</td>\n",
       "      <td>17</td>\n",
       "      <td>20</td>\n",
       "      <td>20</td>\n",
       "      <td>five</td>\n",
       "      <td>AsyncRandom</td>\n",
       "      <td>1</td>\n",
       "      <td>0.4875</td>\n",
       "      <td>17</td>\n",
       "      <td>0.0</td>\n",
       "      <td>1.0</td>\n",
       "    </tr>\n",
       "    <tr>\n",
       "      <th>4</th>\n",
       "      <td>4</td>\n",
       "      <td>0</td>\n",
       "      <td>13</td>\n",
       "      <td>20</td>\n",
       "      <td>20</td>\n",
       "      <td>five</td>\n",
       "      <td>AsyncRandom</td>\n",
       "      <td>10</td>\n",
       "      <td>0.4925</td>\n",
       "      <td>13</td>\n",
       "      <td>0.0</td>\n",
       "      <td>1.0</td>\n",
       "    </tr>\n",
       "  </tbody>\n",
       "</table>\n",
       "</div>"
      ],
      "text/plain": [
       "   RunId  iteration  Step  width  height neighbor_structure       update  \\\n",
       "0      0          0    21     20      20               five         Sync   \n",
       "1      1          0    23     20      20               five         Sync   \n",
       "2      2          0    23     20      20               five         Sync   \n",
       "3      3          0    17     20      20               five  AsyncRandom   \n",
       "4      4          0    13     20      20               five  AsyncRandom   \n",
       "\n",
       "   seed  proportion_against_instinct  NI   SM   IE  \n",
       "0     1                       0.4875  21  0.0  1.0  \n",
       "1    10                       0.4925  23  0.0  1.0  \n",
       "2    25                       0.4825  23  0.0  1.0  \n",
       "3     1                       0.4875  17  0.0  1.0  \n",
       "4    10                       0.4925  13  0.0  1.0  "
      ]
     },
     "execution_count": 2,
     "metadata": {},
     "output_type": "execute_result"
    }
   ],
   "source": [
    "df.head()"
   ]
  },
  {
   "cell_type": "markdown",
   "id": "206c41df",
   "metadata": {},
   "source": [
    "### Calculate the average number of iterations (NI) to steady state for each parameter combo"
   ]
  },
  {
   "cell_type": "code",
   "execution_count": 3,
   "id": "5d9bbb19",
   "metadata": {},
   "outputs": [
    {
     "name": "stdout",
     "output_type": "stream",
     "text": [
      "  neighbor_structure          update         NI\n",
      "0              cones  AsyncIncentive   4.666667\n",
      "1              cones     AsyncRandom   6.000000\n",
      "2              cones            Sync  10.333333\n",
      "3               five  AsyncIncentive  12.000000\n",
      "4               five     AsyncRandom  15.333333\n",
      "5               five            Sync  22.333333\n"
     ]
    }
   ],
   "source": [
    "# group by neighbor_structure, update\n",
    "group_cols = ['neighbor_structure', 'update']\n",
    "avg_ni = df.groupby(group_cols)['NI'].mean().reset_index()\n",
    "\n",
    "print(avg_ni)"
   ]
  },
  {
   "cell_type": "markdown",
   "id": "d11c94d0",
   "metadata": {},
   "source": [
    "Here we can see that the asynchronous incentive update with a cone neighbor structure produces the most efficient convergence on a steady state. "
   ]
  },
  {
   "cell_type": "markdown",
   "id": "73b59988",
   "metadata": {},
   "source": [
    "### Calculate the average percentage of sticks-in-the-mud (SM), or the percentage of agents who are doing the opposite of the majority in the steady state, for each parameter combo"
   ]
  },
  {
   "cell_type": "code",
   "execution_count": 4,
   "id": "1a2d0773",
   "metadata": {},
   "outputs": [
    {
     "name": "stdout",
     "output_type": "stream",
     "text": [
      "  neighbor_structure          update   SM\n",
      "0              cones  AsyncIncentive  0.0\n",
      "1              cones     AsyncRandom  0.0\n",
      "2              cones            Sync  0.0\n",
      "3               five  AsyncIncentive  0.0\n",
      "4               five     AsyncRandom  0.0\n",
      "5               five            Sync  0.0\n"
     ]
    }
   ],
   "source": [
    "# group by neighbor_structure and update, then calculate the mean SM\n",
    "group_cols = ['neighbor_structure', 'update']\n",
    "avg_sm = df.groupby(group_cols)['SM'].mean().reset_index()\n",
    "\n",
    "print(avg_sm)"
   ]
  },
  {
   "cell_type": "markdown",
   "id": "773ea156",
   "metadata": {},
   "source": [
    "The model always converges on a single unanimous behavior, regardless of parameter combinations. What part of the model implementation/dynamics might be causing this to happen?"
   ]
  },
  {
   "cell_type": "markdown",
   "id": "1c3c7d81",
   "metadata": {},
   "source": [
    "### Calculate the average informational efficiency (IE), or the percentage of runs where the majority behavior in the steady state matched the majority behavior at initialization, for each parameter combo"
   ]
  },
  {
   "cell_type": "code",
   "execution_count": 5,
   "id": "7609729a",
   "metadata": {},
   "outputs": [
    {
     "name": "stdout",
     "output_type": "stream",
     "text": [
      "  neighbor_structure          update   IE\n",
      "0              cones  AsyncIncentive  1.0\n",
      "1              cones     AsyncRandom  1.0\n",
      "2              cones            Sync  1.0\n",
      "3               five  AsyncIncentive  1.0\n",
      "4               five     AsyncRandom  1.0\n",
      "5               five            Sync  1.0\n"
     ]
    }
   ],
   "source": [
    "# group by neighbor_structure and update, then calculate the average IE\n",
    "group_cols = ['neighbor_structure', 'update']\n",
    "avg_ie = df.groupby(group_cols)['IE'].mean().reset_index()\n",
    "\n",
    "print(avg_ie)"
   ]
  },
  {
   "cell_type": "markdown",
   "id": "06c3880b",
   "metadata": {},
   "source": [
    "Similarly, the model always converges to the same majority behavior that existed at the beginning. What part of the model implementation/dynamics might be causing this to happen?"
   ]
  }
 ],
 "metadata": {
  "kernelspec": {
   "display_name": "30111",
   "language": "python",
   "name": "python3"
  },
  "language_info": {
   "codemirror_mode": {
    "name": "ipython",
    "version": 3
   },
   "file_extension": ".py",
   "mimetype": "text/x-python",
   "name": "python",
   "nbconvert_exporter": "python",
   "pygments_lexer": "ipython3",
   "version": "3.12.7"
  }
 },
 "nbformat": 4,
 "nbformat_minor": 5
}
